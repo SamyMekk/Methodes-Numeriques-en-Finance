{
 "cells": [
  {
   "cell_type": "markdown",
   "id": "f1294f75",
   "metadata": {},
   "source": [
    "<h1> <center>  Méthodes de Valorisation dans le Modèle de Black-Scholes pour les Options Européennes </center> </h1>\n",
    "\n",
    "[Lien vers le Modèle de Black-Scholes](https://en.wikipedia.org/wiki/Black%E2%80%93Scholes_model). \n",
    "\n",
    "\n",
    "\n",
    "## Table\n",
    "   - [Parité Call-Put](#sec1)\n",
    "   - [Méthode de Monte-Carlo](#sec2)\n",
    "   - [Arbre Binominal](#sec3)\n"
   ]
  },
  {
   "cell_type": "code",
   "execution_count": 59,
   "id": "f76854a4",
   "metadata": {},
   "outputs": [],
   "source": [
    "import numpy as np\n",
    "from scipy.stats import norm,sem"
   ]
  },
  {
   "cell_type": "code",
   "execution_count": 106,
   "id": "1bcb8bc8",
   "metadata": {},
   "outputs": [],
   "source": [
    "class BS_Pricer():\n",
    "    def __init__(self,S,K,T,r,sigma):\n",
    "        self.S=S\n",
    "        self.K=K\n",
    "        self.T=T\n",
    "        self.r=r\n",
    "        self.sigma=sigma\n",
    "        \n",
    "        \n",
    "    def BSPrice(self,payoff):\n",
    "           \n",
    "        d1 = (np.log(self.S/self.K) + (self.r + self.sigma**2 / 2) * self.T) / (self.sigma * np.sqrt(self.T))\n",
    "        d2 = (np.log(self.S/self.K) + (self.r - self.sigma**2 / 2) * self.T) / (self.sigma * np.sqrt(self.T))\n",
    "\n",
    "        if payoff==\"call\":\n",
    "            return self.S * norm.cdf( d1 ) - self.K * np.exp(-self.r * self.T) *norm.cdf( d2 )\n",
    "        elif payoff==\"put\":\n",
    "            return self.K * np.exp(-self.r * self.T) * norm.cdf( -d2 ) - self.S * norm.cdf( -d1 )\n",
    "        else:\n",
    "            raise ValueError(\"Type Invalide: Choississez 'call' ou 'put'\")\n",
    "            \n",
    "    def MonteCarloPrice(self,payoff,N):\n",
    "        W = norm.rvs( (self.r-0.5*self.sigma**2)*self.T , np.sqrt(self.T)*self.sigma, N)\n",
    "        S_T = self.S * np.exp(W)\n",
    "        if payoff==\"call\":\n",
    "            call = np.mean( np.exp(-r*T) * np.maximum(S_T-self.K,0) )\n",
    "            call_err = sem( np.exp(-r*T) * np.maximum(S_T-self.K,0) )\n",
    "            return call,call_err # standard error\n",
    "        if payoff==\"put\":\n",
    "            put = np.mean( np.exp(-r*T) * np.maximum(self.K-S_T,0))\n",
    "            put_err = sem( np.exp(-r*T) * np.maximum(self.K-S_T,0) )  \n",
    "            return put,put_err# standard error\n",
    "        \n",
    "    def BinomialPrice(self,payoff,N):\n",
    "        dT = float(self.T) / N # Delta t\n",
    "        u = np.exp(self.sigma * np.sqrt(dT))                 # up factor\n",
    "        d = 1.0 / u                                   # down factor \n",
    "        V = np.zeros(N+1)                             # initialize the price vector\n",
    "        S_T = np.array( [(self.S * u**j * d**(N - j)) for j in range(N + 1)] )  # price S_T at time T\n",
    "        a = np.exp(self.r * dT)    # risk free compounded return\n",
    "        p = (a - d)/ (u - d)  # risk neutral up probability\n",
    "        q = 1.0 - p           # risk neutral down probability   \n",
    "        if payoff ==\"call\":\n",
    "            V[:] = np.maximum(S_T-K, 0.0)\n",
    "        elif payoff==\"put\":\n",
    "            V[:] = np.maximum(K-S_T, 0.0)\n",
    "        else:\n",
    "            raise ValueError(\"Type Invalide: Choississez 'call' ou 'put'\")            \n",
    "        for i in range(N-1, -1, -1):\n",
    "            V[:-1] = np.exp(-r*dT) * (p * V[1:] + q * V[:-1])    # the price vector is overwritten at each step\n",
    "        return V[0]\n",
    "        \n",
    "\n",
    "        "
   ]
  },
  {
   "cell_type": "code",
   "execution_count": 107,
   "id": "77ab12bb",
   "metadata": {},
   "outputs": [],
   "source": [
    "S=100\n",
    "K=100\n",
    "T=1\n",
    "r=0.05\n",
    "sigma=0.2\n"
   ]
  },
  {
   "cell_type": "code",
   "execution_count": 108,
   "id": "7db00fb8",
   "metadata": {
    "scrolled": true
   },
   "outputs": [
    {
     "name": "stdout",
     "output_type": "stream",
     "text": [
      "Prix du Call :  10.450583572185565\n",
      "Prix du Put:  5.573526022256971\n"
     ]
    }
   ],
   "source": [
    "Option = BS_Pricer(S,K,T,r,sigma)\n",
    "\n",
    "print(\"Prix du Call : \", Option.BSPrice(\"call\") )  \n",
    "print(\"Prix du Put: \", Option.BSPrice(\"put\") ) "
   ]
  },
  {
   "cell_type": "markdown",
   "id": "0bc49c65",
   "metadata": {},
   "source": [
    "<a id='sec1'></a>\n",
    "### Parité Call-Put\n",
    "\n",
    "La formule de la Parité Call-Put qui se démontre en AOA est visible ici :  [wiki page](https://en.wikipedia.org/wiki/Put%E2%80%93call_parity)\n",
    "\n",
    "$$ Call - Put = S_0 - K e^{-rT}  $$\n"
   ]
  },
  {
   "cell_type": "code",
   "execution_count": 119,
   "id": "ef7284a5",
   "metadata": {},
   "outputs": [
    {
     "name": "stdout",
     "output_type": "stream",
     "text": [
      "10.450583572185565\n",
      "10.450583572185565\n"
     ]
    }
   ],
   "source": [
    "print(Option.BSPrice(\"call\")) \n",
    "print(Option.BSPrice(\"put\") + S - K * np.exp(-r*T) )"
   ]
  },
  {
   "cell_type": "markdown",
   "id": "64fdeb4e",
   "metadata": {},
   "source": [
    "<a id='sec2'></a>\n",
    "## Méthode de Monte-Carlo\n",
    "\n",
    "Nous allons simuler N variables\n",
    "\n",
    "$$ S_T^i = S_0 e^{(r -\\frac{1}{2}\\sigma^2)T + \\sigma W_{T}^i} $$\n",
    "\n",
    "pour $1 \\leq i \\leq N$.    \n",
    "On utilise alors l'approximation Monte-Carlo pour le calcul:\n",
    "\n",
    "$$ \\mathbb{E}^{\\mathbb{Q}}\\biggl[ (S_T - K)^+ \\bigg| S_0 \\biggr] \\; \n",
    "\\approx \\; \\frac{1}{N} \\sum_{i=1}^N (S_T^i - K)^+\n",
    "$$\n",
    "\n",
    "Pour une option de Put, On utilise le payoff $(K - S_T )^+$ dans l'espérance."
   ]
  },
  {
   "cell_type": "code",
   "execution_count": 118,
   "id": "6035681d",
   "metadata": {},
   "outputs": [
    {
     "name": "stdout",
     "output_type": "stream",
     "text": [
      "Prix du Call: 10.444463003001719, avec erreur: 0.04655049804469559\n",
      "Prix du Put: 5.580142091615531, avec erreur: 0.027446950291453963\n"
     ]
    }
   ],
   "source": [
    "N=100000\n",
    "CallMonteCarlo,CallStandardError=Option.MonteCarloPrice(\"call\",N)\n",
    "PutMonteCarlo,PutStandardError=Option.MonteCarloPrice(\"put\",N)\n",
    "print(\"Prix du Call: {}, avec erreur: {}\".format(CallMonteCarlo, CallStandardError))\n",
    "print(\"Prix du Put: {}, avec erreur: {}\".format(PutMonteCarlo, PutStandardError))"
   ]
  },
  {
   "cell_type": "markdown",
   "id": "f127ce31",
   "metadata": {},
   "source": [
    "<a id='sec3'></a>\n",
    "## Arbre Binomial\n",
    "\n",
    "On s'intéresse dorénavant à l'implémentation de la méthode par arbre binomial recombinant"
   ]
  },
  {
   "cell_type": "code",
   "execution_count": 116,
   "id": "8fbec80d",
   "metadata": {},
   "outputs": [
    {
     "name": "stdout",
     "output_type": "stream",
     "text": [
      "Prix du call : 10.448584103764572\n",
      "Prix du Put : 5.57152655383368\n"
     ]
    }
   ],
   "source": [
    "N=1000\n",
    "CallBinominalPrice=Option.BinomialPrice(\"call\",N)\n",
    "PutBinominalPrice=Option.BinomialPrice(\"put\",N)\n",
    "\n",
    "print(\"Prix du call : {}\".format(CallBinominalPrice))\n",
    "print(\"Prix du Put : {}\".format(PutBinominalPrice))"
   ]
  },
  {
   "cell_type": "code",
   "execution_count": null,
   "id": "9ad9c5ff",
   "metadata": {},
   "outputs": [],
   "source": []
  }
 ],
 "metadata": {
  "kernelspec": {
   "display_name": "Python 3 (ipykernel)",
   "language": "python",
   "name": "python3"
  },
  "language_info": {
   "codemirror_mode": {
    "name": "ipython",
    "version": 3
   },
   "file_extension": ".py",
   "mimetype": "text/x-python",
   "name": "python",
   "nbconvert_exporter": "python",
   "pygments_lexer": "ipython3",
   "version": "3.8.5"
  }
 },
 "nbformat": 4,
 "nbformat_minor": 5
}
